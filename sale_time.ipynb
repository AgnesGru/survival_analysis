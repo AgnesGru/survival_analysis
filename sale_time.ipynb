{
 "cells": [
  {
   "cell_type": "code",
   "execution_count": 12,
   "metadata": {},
   "outputs": [
    {
     "name": "stdout",
     "output_type": "stream",
     "text": [
      "Requirement already satisfied: lifelines in c:\\users\\user\\anaconda3\\envs\\deep_env\\lib\\site-packages (0.25.8)\n",
      "Requirement already satisfied: matplotlib>=3.0 in c:\\users\\user\\anaconda3\\envs\\deep_env\\lib\\site-packages (from lifelines) (3.3.3)\n",
      "Requirement already satisfied: autograd>=1.3 in c:\\users\\user\\anaconda3\\envs\\deep_env\\lib\\site-packages (from lifelines) (1.3)\n",
      "Requirement already satisfied: formulaic in c:\\users\\user\\anaconda3\\envs\\deep_env\\lib\\site-packages (from lifelines) (0.2.1)\n",
      "Requirement already satisfied: autograd-gamma>=0.3 in c:\\users\\user\\anaconda3\\envs\\deep_env\\lib\\site-packages (from lifelines) (0.5.0)\n",
      "Requirement already satisfied: pandas>=0.23.0 in c:\\users\\user\\anaconda3\\envs\\deep_env\\lib\\site-packages (from lifelines) (1.1.4)\n",
      "Requirement already satisfied: numpy>=1.14.0 in c:\\users\\user\\anaconda3\\envs\\deep_env\\lib\\site-packages (from lifelines) (1.19.2)\n",
      "Requirement already satisfied: scipy>=1.2.0 in c:\\users\\user\\anaconda3\\envs\\deep_env\\lib\\site-packages (from lifelines) (1.5.2)\n",
      "Requirement already satisfied: future>=0.15.2 in c:\\users\\user\\anaconda3\\envs\\deep_env\\lib\\site-packages (from autograd>=1.3->lifelines) (0.18.2)\n",
      "Requirement already satisfied: pillow>=6.2.0 in c:\\users\\user\\anaconda3\\envs\\deep_env\\lib\\site-packages (from matplotlib>=3.0->lifelines) (8.1.0)\n",
      "Requirement already satisfied: python-dateutil>=2.1 in c:\\users\\user\\anaconda3\\envs\\deep_env\\lib\\site-packages (from matplotlib>=3.0->lifelines) (2.8.1)\n",
      "Requirement already satisfied: cycler>=0.10 in c:\\users\\user\\anaconda3\\envs\\deep_env\\lib\\site-packages (from matplotlib>=3.0->lifelines) (0.10.0)\n",
      "Requirement already satisfied: pyparsing!=2.0.4,!=2.1.2,!=2.1.6,>=2.0.3 in c:\\users\\user\\anaconda3\\envs\\deep_env\\lib\\site-packages (from matplotlib>=3.0->lifelines) (2.4.7)\n",
      "Requirement already satisfied: kiwisolver>=1.0.1 in c:\\users\\user\\anaconda3\\envs\\deep_env\\lib\\site-packages (from matplotlib>=3.0->lifelines) (1.3.1)\n",
      "Requirement already satisfied: six in c:\\users\\user\\anaconda3\\envs\\deep_env\\lib\\site-packages (from cycler>=0.10->matplotlib>=3.0->lifelines) (1.15.0)\n",
      "Requirement already satisfied: pytz>=2017.2 in c:\\users\\user\\anaconda3\\envs\\deep_env\\lib\\site-packages (from pandas>=0.23.0->lifelines) (2020.4)\n",
      "Requirement already satisfied: interface-meta>=1.2 in c:\\users\\user\\anaconda3\\envs\\deep_env\\lib\\site-packages (from formulaic->lifelines) (1.2.2)\n",
      "Requirement already satisfied: wrapt in c:\\users\\user\\anaconda3\\envs\\deep_env\\lib\\site-packages (from formulaic->lifelines) (1.12.1)\n",
      "Requirement already satisfied: astor in c:\\users\\user\\anaconda3\\envs\\deep_env\\lib\\site-packages (from formulaic->lifelines) (0.8.1)\n"
     ]
    }
   ],
   "source": [
    "!pip install lifelines"
   ]
  },
  {
   "cell_type": "code",
   "execution_count": 13,
   "metadata": {},
   "outputs": [
    {
     "name": "stdout",
     "output_type": "stream",
     "text": [
      "Requirement already satisfied: inline in c:\\users\\user\\anaconda3\\envs\\deep_env\\lib\\site-packages (0.0.1)\n"
     ]
    }
   ],
   "source": [
    "!pip install inline"
   ]
  },
  {
   "cell_type": "code",
   "execution_count": 14,
   "metadata": {},
   "outputs": [
    {
     "name": "stdout",
     "output_type": "stream",
     "text": [
      "Requirement already satisfied: pip in c:\\users\\user\\anaconda3\\envs\\deep_env\\lib\\site-packages (21.0.1)\n"
     ]
    }
   ],
   "source": [
    "!pip install --upgrade pip"
   ]
  },
  {
   "cell_type": "code",
   "execution_count": 15,
   "metadata": {},
   "outputs": [],
   "source": [
    "import inline as inline\n",
    "import pylab\n",
    "from lifelines import KaplanMeierFitter\n",
    "import matplotlib.pyplot as plt\n",
    "from lifelines.plotting import plot_lifetimes"
   ]
  },
  {
   "cell_type": "code",
   "execution_count": 16,
   "metadata": {},
   "outputs": [],
   "source": [
    "durations = [3, 4, 7, 4, 5, 8, 5, 6, 5.5, 2]\n",
    "event_happened = [1, 0, 1, 1, 0, 1, 0, 1, 1, 1]"
   ]
  },
  {
   "cell_type": "code",
   "execution_count": 21,
   "metadata": {},
   "outputs": [
    {
     "data": {
      "text/plain": [
       "Text(0, 0.5, 'Survival probability')"
      ]
     },
     "execution_count": 21,
     "metadata": {},
     "output_type": "execute_result"
    },
    {
     "data": {
      "image/png": "[encoded data removed]",
      "text/plain": [
       "<Figure size 432x288 with 1 Axes>"
      ]
     },
     "metadata": {
      "needs_background": "light"
     },
     "output_type": "display_data"
    }
   ],
   "source": [
    "kmf = KaplanMeierFitter()\n",
    "kmf.fit(durations, event_happened, label='Keplan Meier Estimate')\n",
    "ax = kmf.plot(ci_show=False)\n",
    "ax.set_xlabel('Sale time (months)', fontsize = 10)\n",
    "ax.set_ylabel('Survival probability', fontsize = 10)\n",
    "# add horizontal and vertical line\n"
   ]
  },
  {
   "cell_type": "code",
   "execution_count": null,
   "metadata": {},
   "outputs": [],
   "source": []
  }
 ],
 "metadata": {
  "kernelspec": {
   "display_name": "Python 3",
   "language": "python",
   "name": "python3"
  },
  "language_info": {
   "codemirror_mode": {
    "name": "ipython",
    "version": 3
   },
   "file_extension": ".py",
   "mimetype": "text/x-python",
   "name": "python",
   "nbconvert_exporter": "python",
   "pygments_lexer": "ipython3",
   "version": "3.7.9"
  }
 },
 "nbformat": 4,
 "nbformat_minor": 4
}
